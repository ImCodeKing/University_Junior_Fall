{
 "cells": [
  {
   "cell_type": "code",
   "execution_count": 1,
   "metadata": {},
   "outputs": [],
   "source": [
    "%matplotlib inline"
   ]
  },
  {
   "cell_type": "markdown",
   "metadata": {},
   "source": [
    "\n",
    "神经网络构建与训练\n",
    "===============\n",
    "\n",
    "神经网络的典型训练过程如下：\n",
    "\n",
    "·定义神经网络的参数和前向传播过程\n",
    "\n",
    "·网络前向传播处理输入\n",
    "\n",
    "·计算损失函数\n",
    "\n",
    "·将梯度传播回网络参数\n",
    "\n",
    "·使用优化器来更新网络的权重\n",
    "\n",
    "\n",
    "===================\n",
    "\n",
    "首先让我们借助torch.nn定义网络\n",
    "\n"
   ]
  },
  {
   "cell_type": "code",
   "execution_count": 2,
   "metadata": {},
   "outputs": [
    {
     "name": "stdout",
     "output_type": "stream",
     "text": [
      "Net(\n",
      "  (features): Sequential(\n",
      "    (0): Conv2d(1, 6, kernel_size=(3, 3), stride=(1, 1), padding=(1, 1))\n",
      "    (1): ReLU()\n",
      "    (2): MaxPool2d(kernel_size=(2, 2), stride=(2, 2), padding=0, dilation=1, ceil_mode=False)\n",
      "    (3): Conv2d(6, 16, kernel_size=(3, 3), stride=(1, 1), padding=(1, 1))\n",
      "    (4): ReLU()\n",
      "    (5): MaxPool2d(kernel_size=(2, 2), stride=(2, 2), padding=0, dilation=1, ceil_mode=False)\n",
      "  )\n",
      "  (classifier): Sequential(\n",
      "    (0): Linear(in_features=1024, out_features=120, bias=True)\n",
      "    (1): ReLU()\n",
      "    (2): Linear(in_features=120, out_features=10, bias=True)\n",
      "  )\n",
      ")\n"
     ]
    }
   ],
   "source": [
    "import torch\n",
    "import torch.nn as nn\n",
    "import torch.nn.functional as F\n",
    "\n",
    "\n",
    "class Net(nn.Module):\n",
    "\n",
    "    def __init__(self):\n",
    "        super(Net, self).__init__() #nn.Module的子类必须在构造函数中执行父类的构造函数\n",
    "        #torch.nn.Conv2d(in_channels, out_channels, kernel_size, stride=1, padding=0, dilation=1, bias=True)\n",
    "       \n",
    "        self.features = nn.Sequential(\n",
    "            # 1 input image channel, 6 output channels, 3x3 square convolution\n",
    "            nn.Conv2d(in_channels=1, out_channels=6,kernel_size=3,padding=1),\n",
    "            nn.ReLU(),\n",
    "            nn.MaxPool2d((2,2)),\n",
    "            nn.Conv2d(6, 16, 3, padding=1),\n",
    "            nn.ReLU(),\n",
    "            nn.MaxPool2d((2,2)),\n",
    "        )\n",
    "        self.classifier = nn.Sequential(\n",
    "            nn.Linear(16 * 8 * 8, 120),\n",
    "            nn.ReLU(),\n",
    "            nn.Linear(120,10),\n",
    "        )\n",
    "        self.my_para = nn.Parameter(torch.ones(1, requires_grad=True))\n",
    "        '''\n",
    "        self.conv1 = nn.Conv2d(1, 6, 3)\n",
    "        self.conv2 = nn.Conv2d(6, 16, 3)\n",
    "        # an affine operation: y = Wx + b\n",
    "        self.fc1 = nn.Linear(16 * 6 * 6, 120)\n",
    "        self.fc2 = nn.Linear(120, 84)\n",
    "        self.fc3 = nn.Linear(84, 10)\n",
    "        '''\n",
    "    def forward(self, x):\n",
    "        x = self.features(x) + self.my_para\n",
    "        x = x.view(x.size(0),-1)\n",
    "        x = self.classifier(x)\n",
    "        return x\n",
    "        '''\n",
    "        # Max pooling over a (2, 2) window\n",
    "        x = F.max_pool2d(F.relu(self.conv1(x)), (2, 2))\n",
    "        # If the size is a square, you can specify with a single number\n",
    "        x = F.max_pool2d(F.relu(self.conv2(x)), 2)\n",
    "        x = x.view(-1, self.num_flat_features(x))\n",
    "        x = F.relu(self.fc1(x))\n",
    "        x = F.relu(self.fc2(x))\n",
    "        x = self.fc3(x)\n",
    "        '''\n",
    "net = Net()\n",
    "print(net)"
   ]
  },
  {
   "cell_type": "markdown",
   "metadata": {},
   "source": [
    "查看模型内的可学习参数"
   ]
  },
  {
   "cell_type": "code",
   "execution_count": 3,
   "metadata": {},
   "outputs": [
    {
     "name": "stdout",
     "output_type": "stream",
     "text": [
      "my_para\n",
      "torch.Size([1])\n",
      "features.0.weight\n",
      "torch.Size([6, 1, 3, 3])\n",
      "features.0.bias\n",
      "torch.Size([6])\n",
      "features.3.weight\n",
      "torch.Size([16, 6, 3, 3])\n",
      "features.3.bias\n",
      "torch.Size([16])\n",
      "classifier.0.weight\n",
      "torch.Size([120, 1024])\n",
      "classifier.0.bias\n",
      "torch.Size([120])\n",
      "classifier.2.weight\n",
      "torch.Size([10, 120])\n",
      "classifier.2.bias\n",
      "torch.Size([10])\n"
     ]
    }
   ],
   "source": [
    "for name,params in net.named_parameters():\n",
    "    print(name)\n",
    "    print(params.size())"
   ]
  },
  {
   "cell_type": "markdown",
   "metadata": {},
   "source": [
    "尝试输入图片获取输出（注意输入需要是(B,C,H,W)4维）\n"
   ]
  },
  {
   "cell_type": "code",
   "execution_count": 4,
   "metadata": {},
   "outputs": [
    {
     "name": "stdout",
     "output_type": "stream",
     "text": [
      "tensor([[ 0.1219,  0.1282,  0.0808,  0.7262, -0.6104, -0.2138, -0.1289,  0.0475,\n",
      "          0.0816,  0.0085]], grad_fn=<AddmmBackward0>)\n"
     ]
    }
   ],
   "source": [
    "input = torch.randn(1, 1, 32, 32)\n",
    "out = net(input)\n",
    "print(out)"
   ]
  },
  {
   "cell_type": "markdown",
   "metadata": {},
   "source": [
    "目前我们已经完成了神经网络与前向传播，并得到了一组网络输出out\n",
    "\n",
    "为完成一次训练，还需要\n",
    "\n",
    "·计算LOSS并进行反向传播取得梯度\n",
    "\n",
    "·更新权重参数"
   ]
  },
  {
   "cell_type": "code",
   "execution_count": 5,
   "metadata": {},
   "outputs": [
    {
     "name": "stdout",
     "output_type": "stream",
     "text": [
      "tensor(1.8914, grad_fn=<MseLossBackward0>)\n"
     ]
    }
   ],
   "source": [
    "output = net(input)\n",
    "target = torch.randn(10)  # a dummy target, for example\n",
    "target = target.view(1, -1)  # make it the same shape as output\n",
    "criterion = nn.MSELoss()\n",
    "\n",
    "loss = criterion(output, target)\n",
    "print(loss)"
   ]
  },
  {
   "cell_type": "markdown",
   "metadata": {},
   "source": [
    "Backprop\n",
    "-------------\n",
    "\n"
   ]
  },
  {
   "cell_type": "code",
   "execution_count": 6,
   "metadata": {},
   "outputs": [
    {
     "name": "stdout",
     "output_type": "stream",
     "text": [
      "conv1.bias.grad before backward\n",
      "None\n",
      "conv1.bias.grad after backward\n",
      "tensor([-0.0126,  0.0281, -0.0075,  0.0085, -0.0369,  0.0201])\n"
     ]
    }
   ],
   "source": [
    "net.zero_grad()     # 清零现有梯度\n",
    "\n",
    "print('conv1.bias.grad before backward')\n",
    "print(net.features[0].bias.grad)\n",
    "\n",
    "loss.backward()\n",
    "\n",
    "print('conv1.bias.grad after backward')\n",
    "print(net.features[0].bias.grad)"
   ]
  },
  {
   "cell_type": "code",
   "execution_count": 7,
   "metadata": {},
   "outputs": [
    {
     "name": "stdout",
     "output_type": "stream",
     "text": [
      "conv1.bias.grad before backward\n",
      "tensor([-0.0126,  0.0281, -0.0075,  0.0085, -0.0369,  0.0201])\n",
      "conv1.bias.grad after backward\n",
      "tensor([-0.0253,  0.0561, -0.0150,  0.0171, -0.0737,  0.0402])\n"
     ]
    }
   ],
   "source": [
    "#to check for zero_grad()\n",
    "\n",
    "output = net(input)\n",
    "loss = criterion(output, target) #重建计算图\n",
    "#net.zero_grad()     # 清零现有梯度\n",
    "\n",
    "print('conv1.bias.grad before backward')\n",
    "print(net.features[0].bias.grad)\n",
    "\n",
    "loss.backward()\n",
    "\n",
    "print('conv1.bias.grad after backward')\n",
    "print(net.features[0].bias.grad)"
   ]
  },
  {
   "cell_type": "markdown",
   "metadata": {},
   "source": [
    "更新权重\n",
    "-------\n",
    "\n"
   ]
  },
  {
   "cell_type": "code",
   "execution_count": 8,
   "metadata": {},
   "outputs": [],
   "source": [
    "learning_rate = 0.01\n",
    "for f in net.parameters():\n",
    "        f.data.sub_(f.grad.data * learning_rate)"
   ]
  },
  {
   "cell_type": "code",
   "execution_count": 9,
   "metadata": {},
   "outputs": [],
   "source": [
    "import torch.optim as optim\n",
    "\n",
    "# create your optimizer\n",
    "optimizer = optim.SGD(net.parameters(), lr=0.01)\n",
    "\n",
    "# in your training loop:\n",
    "optimizer.zero_grad()   # zero the gradient buffers\n",
    "output = net(input)\n",
    "loss = criterion(output, target)\n",
    "loss.backward()\n",
    "optimizer.step()    # Does the update"
   ]
  }
 ],
 "metadata": {
  "kernelspec": {
   "display_name": "Python 3",
   "language": "python",
   "name": "python3"
  },
  "language_info": {
   "codemirror_mode": {
    "name": "ipython",
    "version": 3
   },
   "file_extension": ".py",
   "mimetype": "text/x-python",
   "name": "python",
   "nbconvert_exporter": "python",
   "pygments_lexer": "ipython3",
   "version": "3.9.18"
  }
 },
 "nbformat": 4,
 "nbformat_minor": 1
}
